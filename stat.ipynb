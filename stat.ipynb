{
 "cells": [
  {
   "cell_type": "markdown",
   "metadata": {},
   "source": [
    "## **MarkDown**"
   ]
  },
  {
   "cell_type": "code",
   "execution_count": 1,
   "metadata": {},
   "outputs": [
    {
     "name": "stdout",
     "output_type": "stream",
     "text": [
      "Hello World!\n"
     ]
    }
   ],
   "source": [
    "print('Hello World!')"
   ]
  },
  {
   "cell_type": "markdown",
   "metadata": {},
   "source": [
    "*Курсив*"
   ]
  },
  {
   "cell_type": "markdown",
   "metadata": {},
   "source": [
    "![Альтернативный текст](img/Cat.jpg)"
   ]
  },
  {
   "cell_type": "markdown",
   "metadata": {},
   "source": [
    "### Заголовок"
   ]
  },
  {
   "cell_type": "markdown",
   "metadata": {},
   "source": [
    "$$\n",
    "x_{1,2} = {-b\\pm\\sqrt{b^2 - 4ac} \\over 2a}\n",
    "$$ (1)"
   ]
  },
  {
   "cell_type": "markdown",
   "metadata": {},
   "source": [
    "$$ \\pi x^2+y^2 $$"
   ]
  },
  {
   "cell_type": "markdown",
   "metadata": {},
   "source": [
    "\\lim\\limits_{x \\to \\infty} \\exp(-x) = 0"
   ]
  },
  {
   "cell_type": "markdown",
   "metadata": {},
   "source": [
    "# **1. Введение**"
   ]
  },
  {
   "cell_type": "markdown",
   "metadata": {},
   "source": [
    "## 1.1 Генеральная совокупность и выборка"
   ]
  },
  {
   "cell_type": "markdown",
   "metadata": {},
   "source": [
    "* **Генеральная совокупность (ГС)** - множество всех объектов, относительно которых делаются выводы в рамках исследования некоторой научной проблемы\n",
    "* **Выборка** - часть ГС, исследуя которую можно обобщить результаты на ГС. Для этого выборка должна быть ***репрезентативна***, то есть была моделью ГС (отражала свойства ГС) "
   ]
  },
  {
   "cell_type": "markdown",
   "metadata": {},
   "source": [
    "Способы формирования репрезентативной выборки:\n",
    "\n",
    "* **Простая случайная выборка (simple random sample)** - случайным образом выбираются элементы ГС для участия в эксперименте или исследовании. При увеличении объема случайной выборки она начинает напоминать ГС по своим характеристикам\n",
    "\n",
    "* **Стратифицированная выборка (stratified sample)** - ГС разбивается на несколько обособленных и различных по своей природе групп (страт), а зачем методом случайной выборки извлекаются из каждой группы элементы для участия в исследовании\n",
    "\n",
    "* **Групповая выборка (claster sample)** - ГС разбивается на несколько схожих по свойствам групп (кластеров), а затем методом случайной выборки извлекаются из каждого кластера элементы для участия в исследовании "
   ]
  },
  {
   "cell_type": "markdown",
   "metadata": {},
   "source": [
    "## 1.2 Типы переменных. Количественные и номинативные переменные"
   ]
  },
  {
   "cell_type": "markdown",
   "metadata": {},
   "source": [
    "Типы переменных:\n",
    "\n",
    "Количественные | Номинативные (Качественные)\n",
    "------ | ------\n",
    "Cell   | Cell  "
   ]
  }
 ],
 "metadata": {
  "kernelspec": {
   "display_name": "Python 3.9.10 64-bit",
   "language": "python",
   "name": "python3"
  },
  "language_info": {
   "codemirror_mode": {
    "name": "ipython",
    "version": 3
   },
   "file_extension": ".py",
   "mimetype": "text/x-python",
   "name": "python",
   "nbconvert_exporter": "python",
   "pygments_lexer": "ipython3",
   "version": "3.9.10"
  },
  "orig_nbformat": 4,
  "vscode": {
   "interpreter": {
    "hash": "a07122eb79e7dcc684396ccddb5f6b5ea3c2818db0dad0847db61d63a86f8bbf"
   }
  }
 },
 "nbformat": 4,
 "nbformat_minor": 2
}
